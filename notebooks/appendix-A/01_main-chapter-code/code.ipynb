{
 "cells": [
  {
   "metadata": {},
   "cell_type": "code",
   "outputs": [],
   "execution_count": null,
   "source": "# Appendix A code",
   "id": "590da66e9635b21b"
  },
  {
   "metadata": {
    "collapsed": true,
    "ExecuteTime": {
     "end_time": "2025-10-19T12:19:55.625044Z",
     "start_time": "2025-10-19T12:19:51.722689Z"
    }
   },
   "cell_type": "code",
   "source": [
    "import torch\n",
    "\n",
    "print(torch.__version__)"
   ],
   "id": "8d540d74e7bc8c67",
   "outputs": [
    {
     "name": "stdout",
     "output_type": "stream",
     "text": [
      "2.9.0\n"
     ]
    }
   ],
   "execution_count": 1
  },
  {
   "metadata": {
    "ExecuteTime": {
     "end_time": "2025-10-19T15:36:59.576535Z",
     "start_time": "2025-10-19T15:36:59.574326Z"
    }
   },
   "cell_type": "code",
   "source": [
    "import torch\n",
    "\n",
    "print(f\"Torch version: {torch.__version__}\",)\n",
    "print(f\"Torch MPS Available: {torch.mps.is_available()}\")\n",
    "print(f\"Torch Cuda Available: {torch.cuda.is_available()}\")\n",
    "print(f\"Torch device: {torch.device('mps')}\")\n",
    "print(f\"Torch device count: {torch.cuda.device_count()}\")\n"
   ],
   "id": "bd87f8f916b93c74",
   "outputs": [
    {
     "name": "stdout",
     "output_type": "stream",
     "text": [
      "Torch version: 2.9.0\n",
      "Torch MPS Available: True\n",
      "Torch Cuda Available: False\n",
      "Torch device: mps\n",
      "Torch device count: 0\n"
     ]
    }
   ],
   "execution_count": 8
  },
  {
   "metadata": {
    "ExecuteTime": {
     "end_time": "2025-10-19T15:31:09.861961Z",
     "start_time": "2025-10-19T15:31:09.840434Z"
    }
   },
   "cell_type": "code",
   "source": [
    "import torch\n",
    "\n"
   ],
   "id": "49f73b6809a613dc",
   "outputs": [
    {
     "data": {
      "text/plain": [
       "True"
      ]
     },
     "execution_count": 4,
     "metadata": {},
     "output_type": "execute_result"
    }
   ],
   "execution_count": 4
  }
 ],
 "metadata": {
  "kernelspec": {
   "display_name": "Python 3",
   "language": "python",
   "name": "python3"
  },
  "language_info": {
   "codemirror_mode": {
    "name": "ipython",
    "version": 2
   },
   "file_extension": ".py",
   "mimetype": "text/x-python",
   "name": "python",
   "nbconvert_exporter": "python",
   "pygments_lexer": "ipython2",
   "version": "2.7.6"
  }
 },
 "nbformat": 4,
 "nbformat_minor": 5
}
