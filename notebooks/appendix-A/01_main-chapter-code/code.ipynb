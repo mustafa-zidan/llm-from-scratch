{
 "cells": [
  {
   "metadata": {},
   "cell_type": "markdown",
   "source": [
    "# Appendix A code\n",
    "\n",
    "This appendix is designed to equip you with the necessary skills and knowledge to put deep learning into practice and implement large language models (LLMs) from scratch."
   ],
   "id": "a8cd2254e19f76b7"
  },
  {
   "metadata": {
    "collapsed": true,
    "ExecuteTime": {
     "end_time": "2025-10-20T20:02:57.027281Z",
     "start_time": "2025-10-20T20:02:57.025060Z"
    }
   },
   "cell_type": "code",
   "source": [
    "import torch\n",
    "\n",
    "print(torch.__version__)"
   ],
   "id": "8d540d74e7bc8c67",
   "outputs": [
    {
     "name": "stdout",
     "output_type": "stream",
     "text": [
      "2.9.0\n"
     ]
    }
   ],
   "execution_count": 25
  },
  {
   "metadata": {
    "ExecuteTime": {
     "end_time": "2025-10-20T20:02:57.042390Z",
     "start_time": "2025-10-20T20:02:57.040150Z"
    }
   },
   "cell_type": "code",
   "source": [
    "import torch\n",
    "\n",
    "print(f\"Torch version: {torch.__version__}\",)\n",
    "print(f\"Torch MPS Available: {torch.mps.is_available()}\")\n",
    "print(f\"Torch Cuda Available: {torch.cuda.is_available()}\")\n",
    "print(f\"Torch device: {torch.device('mps')}\")\n",
    "print(f\"Torch device count: {torch.cuda.device_count()}\")\n"
   ],
   "id": "bd87f8f916b93c74",
   "outputs": [
    {
     "name": "stdout",
     "output_type": "stream",
     "text": [
      "Torch version: 2.9.0\n",
      "Torch MPS Available: True\n",
      "Torch Cuda Available: False\n",
      "Torch device: mps\n",
      "Torch device count: 0\n"
     ]
    }
   ],
   "execution_count": 26
  },
  {
   "metadata": {},
   "cell_type": "markdown",
   "source": [
    "## Understanding tensors\n",
    "### Scalars, vectors, matrices, and tensors"
   ],
   "id": "a8707aebd1296bd0"
  },
  {
   "metadata": {
    "ExecuteTime": {
     "end_time": "2025-10-20T20:02:57.057519Z",
     "start_time": "2025-10-20T20:02:57.055038Z"
    }
   },
   "cell_type": "code",
   "source": [
    "import torch\n",
    "\n",
    "tensor0d = torch.tensor(1)\n",
    "tensor1d = torch.tensor([1, 2, 3])\n",
    "tensor2d = torch.tensor([[1, 2], [3, 4]])\n",
    "\n",
    "tensor3d = torch.tensor([[[1, 2], [3, 4]],[[5, 6], [7, 8]]])\n",
    "\n",
    "print(f\"tensor0d Creates a zero-dimensional tensor (scalar) from a Python integer:\\n{tensor0d}\")\n",
    "print(f\"tensor1d Creates a one-dimensional tensor (vector) from a Python list: \\n {tensor1d}\")\n",
    "print(f\"tensor2d Creates a two-dimensional tensor (matrix) from a Python list of lists :\\n {tensor2d}\")\n",
    "print(f\"tensor3d Creates a three-dimensional tensor (tensor) from a Python list of lists of lists\\n : {tensor3d}\")"
   ],
   "id": "b1f3ac5c802e2b84",
   "outputs": [
    {
     "name": "stdout",
     "output_type": "stream",
     "text": [
      "tensor0d Creates a zero-dimensional tensor (scalar) from a Python integer:\n",
      "1\n",
      "tensor1d Creates a one-dimensional tensor (vector) from a Python list: \n",
      " tensor([1, 2, 3])\n",
      "tensor2d Creates a two-dimensional tensor (matrix) from a Python list of lists :\n",
      " tensor([[1, 2],\n",
      "        [3, 4]])\n",
      "tensor3d Creates a three-dimensional tensor (tensor) from a Python list of lists of lists\n",
      " : tensor([[[1, 2],\n",
      "         [3, 4]],\n",
      "\n",
      "        [[5, 6],\n",
      "         [7, 8]]])\n"
     ]
    }
   ],
   "execution_count": 27
  },
  {
   "metadata": {},
   "cell_type": "markdown",
   "source": [
    "### Tensor data types\n",
    "\n",
    "PyTorch adopts the default 64-bit integer data type from Python. We can access the data type of a tensor via the `.dtype` attribute of a tensor"
   ],
   "id": "e1a4ef49981be1eb"
  },
  {
   "metadata": {
    "ExecuteTime": {
     "end_time": "2025-10-20T20:02:57.068447Z",
     "start_time": "2025-10-20T20:02:57.066809Z"
    }
   },
   "cell_type": "code",
   "source": [
    "tensor1d = torch.tensor([1, 2, 3])\n",
    "print(tensor1d.dtype)"
   ],
   "id": "6f9da98e8008d6bf",
   "outputs": [
    {
     "name": "stdout",
     "output_type": "stream",
     "text": [
      "torch.int64\n"
     ]
    }
   ],
   "execution_count": 28
  },
  {
   "metadata": {},
   "cell_type": "markdown",
   "source": "When we create tensors from Python floats, PyTorch creates tensors with a 32-bit precision by default; This choice is primarily due to the balance between precision and computational efficiency. A 32-bit floating-point number offers sufficient precision for most deep learning tasks while consuming less memory and computational resources than a 64-bit floating-point number. Moreover, GPU architectures are optimized for 32-bit computations, and using this data type can significantly speed up model training and inference.",
   "id": "cc653575a8682838"
  },
  {
   "metadata": {
    "ExecuteTime": {
     "end_time": "2025-10-20T20:02:57.078105Z",
     "start_time": "2025-10-20T20:02:57.076419Z"
    }
   },
   "cell_type": "code",
   "source": [
    "floatvec = torch.tensor([1.0, 2.0, 3.0])\n",
    "\n",
    "print(floatvec.dtype)"
   ],
   "id": "b29aa0cafaed2d7a",
   "outputs": [
    {
     "name": "stdout",
     "output_type": "stream",
     "text": [
      "torch.float32\n"
     ]
    }
   ],
   "execution_count": 29
  },
  {
   "metadata": {},
   "cell_type": "markdown",
   "source": "It is possible to change the precision using a tensor’s `.to` method.",
   "id": "1d0b2e18b1691efb"
  },
  {
   "metadata": {
    "ExecuteTime": {
     "end_time": "2025-10-20T20:02:57.087331Z",
     "start_time": "2025-10-20T20:02:57.085803Z"
    }
   },
   "cell_type": "code",
   "source": [
    "floatvec = tensor1d.to(torch.float32)\n",
    "\n",
    "print(floatvec.dtype)"
   ],
   "id": "b4fddbe71b1e333a",
   "outputs": [
    {
     "name": "stdout",
     "output_type": "stream",
     "text": [
      "torch.float32\n"
     ]
    }
   ],
   "execution_count": 30
  },
  {
   "metadata": {},
   "cell_type": "markdown",
   "source": [
    "### Common PyTorch tensor operations\n",
    "\n",
    "Common PyTorch tensor operations include element-wise arithmetic, indexing, slicing, reshaping, and broadcasting. These operations are fundamental for manipulating tensors and performing computations in deep learning models.\n"
   ],
   "id": "330c66cdf08fc200"
  },
  {
   "metadata": {
    "ExecuteTime": {
     "end_time": "2025-10-20T20:02:57.096672Z",
     "start_time": "2025-10-20T20:02:57.094779Z"
    }
   },
   "cell_type": "code",
   "source": [
    "# create new tensors\n",
    "tensor2d = torch.tensor([[1, 2, 3],\n",
    "                         [4, 5, 6]])\n",
    "\n",
    "print(tensor2d)"
   ],
   "id": "cbda81d36d774951",
   "outputs": [
    {
     "name": "stdout",
     "output_type": "stream",
     "text": [
      "tensor([[1, 2, 3],\n",
      "        [4, 5, 6]])\n"
     ]
    }
   ],
   "execution_count": 31
  },
  {
   "metadata": {},
   "cell_type": "markdown",
   "source": "The `.shape` attribute allows us to access the shape of a tensor",
   "id": "db11ae7556fcc942"
  },
  {
   "metadata": {
    "ExecuteTime": {
     "end_time": "2025-10-20T20:02:57.112608Z",
     "start_time": "2025-10-20T20:02:57.111109Z"
    }
   },
   "cell_type": "code",
   "source": "print(tensor2d.shape)",
   "id": "5118a0e702aebd29",
   "outputs": [
    {
     "name": "stdout",
     "output_type": "stream",
     "text": [
      "torch.Size([2, 3])\n"
     ]
    }
   ],
   "execution_count": 32
  },
  {
   "metadata": {},
   "cell_type": "markdown",
   "source": "We can also use `.reshape` to change the shape of a tensor. Reshaping allows us to rearrange the elements of a tensor into a different shape while keeping the same data. For example, a 2D tensor with shape (2, 3) containing 6 elements can be reshaped into a 1D tensor with shape (6), or a 3D tensor with shape (1, 2, 3). The only requirement is that the total number of elements must remain the same.\n",
   "id": "1ad1c5d457a8abf4"
  },
  {
   "metadata": {
    "ExecuteTime": {
     "end_time": "2025-10-20T20:02:57.131740Z",
     "start_time": "2025-10-20T20:02:57.129645Z"
    }
   },
   "cell_type": "code",
   "source": "print(tensor2d.reshape(3, 2))",
   "id": "a71525fee116286",
   "outputs": [
    {
     "name": "stdout",
     "output_type": "stream",
     "text": [
      "tensor([[1, 2],\n",
      "        [3, 4],\n",
      "        [5, 6]])\n"
     ]
    }
   ],
   "execution_count": 33
  },
  {
   "metadata": {},
   "cell_type": "markdown",
   "source": "However, note that the more common command for reshaping tensors in PyTorch is `.view()`. The `.view()` method is similar to `.reshape()`, but it does not create a new tensor; instead, it returns a view of the original tensor with the specified shape. This can be more memory-efficient, especially when working with large tensors.",
   "id": "a4d8e3313ed7b221"
  },
  {
   "metadata": {
    "ExecuteTime": {
     "end_time": "2025-10-20T20:02:57.146156Z",
     "start_time": "2025-10-20T20:02:57.144176Z"
    }
   },
   "cell_type": "code",
   "source": "print(tensor2d.view(3, 2))",
   "id": "28ef0404d2ad0c42",
   "outputs": [
    {
     "name": "stdout",
     "output_type": "stream",
     "text": [
      "tensor([[1, 2],\n",
      "        [3, 4],\n",
      "        [5, 6]])\n"
     ]
    }
   ],
   "execution_count": 34
  },
  {
   "metadata": {},
   "cell_type": "markdown",
   "source": [
    "we can use `.T` to transpose a tensor, which means flipping it across its diagonal.\n",
    "> Note that this is not the same as reshaping a tensor, as you can see based on the following result"
   ],
   "id": "51a8562d8cffedf8"
  },
  {
   "metadata": {
    "ExecuteTime": {
     "end_time": "2025-10-20T20:02:57.155605Z",
     "start_time": "2025-10-20T20:02:57.153608Z"
    }
   },
   "cell_type": "code",
   "source": "print(tensor2d.T)",
   "id": "7cac419827f5a756",
   "outputs": [
    {
     "name": "stdout",
     "output_type": "stream",
     "text": [
      "tensor([[1, 4],\n",
      "        [2, 5],\n",
      "        [3, 6]])\n"
     ]
    }
   ],
   "execution_count": 35
  },
  {
   "metadata": {},
   "cell_type": "markdown",
   "source": "The common way to multiply two matrices in PyTorch is the `.matmul` method",
   "id": "f42bb8dcf6a32d2"
  },
  {
   "metadata": {
    "ExecuteTime": {
     "end_time": "2025-10-20T20:02:57.164521Z",
     "start_time": "2025-10-20T20:02:57.162407Z"
    }
   },
   "cell_type": "code",
   "source": [
    "print(tensor2d.matmul(tensor2d.T))\n",
    "# we can also use @ operator, which achieves the same thing more compactly.\n",
    "print(tensor2d @ tensor2d.T)"
   ],
   "id": "dcc159cb99e819bd",
   "outputs": [
    {
     "name": "stdout",
     "output_type": "stream",
     "text": [
      "tensor([[14, 32],\n",
      "        [32, 77]])\n",
      "tensor([[14, 32],\n",
      "        [32, 77]])\n"
     ]
    }
   ],
   "execution_count": 36
  },
  {
   "metadata": {},
   "cell_type": "markdown",
   "source": [
    "## Seeing models as computation graphs\n",
    "\n",
    "PyTorch’s autograd system provides functions to compute gradients in dynamic computational graphs automatically.\n",
    "\n",
    "The code in the following listing implements the forward pass (prediction step) of a simple logistic regression classifier, which can be seen as a single-layer neural network. It returns a score between 0 and 1, which is compared to the true class label (0 or 1) when computing the loss."
   ],
   "id": "efc57d2ff343f405"
  },
  {
   "metadata": {
    "ExecuteTime": {
     "end_time": "2025-10-20T20:19:00.669524Z",
     "start_time": "2025-10-20T20:19:00.666211Z"
    }
   },
   "cell_type": "code",
   "source": [
    "import torch.nn.functional as F #1\n",
    "\n",
    "y = torch.tensor([1.0]) # 2\n",
    "x1 = torch.tensor([1.1]) # 3\n",
    "w1 = torch.tensor([2.2]) # 4\n",
    "b = torch.tensor([0.0]) # 5\n",
    "z = x1 * w1 + b # 6\n",
    "a = torch.sigmoid(z) #7\n",
    "loss = F.binary_cross_entropy(a, y) #8"
   ],
   "id": "585bf7258ef31ca8",
   "outputs": [],
   "execution_count": 37
  },
  {
   "metadata": {},
   "cell_type": "markdown",
   "source": [
    "2 → True label $y = 1$\n",
    "\n",
    "3 → Input Feature $x_1 = 1.1$\n",
    "\n",
    "4 → Weight $w_1 = 2.2$\n",
    "\n",
    "5 → Bias $b = 0.0$\n",
    "\n",
    "6 → Net input $z = x_1 \\cdot w_1 + b = 1.1 \\cdot 2.2 + 0 = 2.42$\n",
    "\n",
    "7 → Activation $a = \\sigma(z) = \\frac{1}{1 + e^{-2.42}} \\approx 0.918 $\n",
    "\n",
    "8 → Loss $L = - \\left( y \\cdot \\log(a) + (1 - y) \\cdot \\log(1 - a) \\right) \\approx 0.0855$\n"
   ],
   "id": "fb571ad9642a28b3"
  },
  {
   "metadata": {},
   "cell_type": "markdown",
   "source": "![image.png](attachment:276d3680-31cc-4c7a-8769-54f68656c8a8.png)",
   "id": "954368f5073c051a",
   "attachments": {
    "b6c0021f-de17-41ff-afb1-092eb9f71776.png": {
     "image/png": "[encoded data removed]"
    },
    "276d3680-31cc-4c7a-8769-54f68656c8a8.png": {
     "image/png": "[encoded data removed]"
    }
   }
  }
 ],
 "metadata": {
  "kernelspec": {
   "display_name": "Python 3",
   "language": "python",
   "name": "python3"
  },
  "language_info": {
   "codemirror_mode": {
    "name": "ipython",
    "version": 2
   },
   "file_extension": ".py",
   "mimetype": "text/x-python",
   "name": "python",
   "nbconvert_exporter": "python",
   "pygments_lexer": "ipython2",
   "version": "2.7.6"
  }
 },
 "nbformat": 4,
 "nbformat_minor": 5
}
